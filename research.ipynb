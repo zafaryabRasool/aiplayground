{
 "cells": [
  {
   "cell_type": "code",
   "execution_count": 1,
   "metadata": {},
   "outputs": [],
   "source": [
    "import chromadb\n",
    "from chromadb.config import Settings as ChromaSettings\n",
    "\n",
    "\n",
    "from dotenv import load_dotenv\n",
    "import os\n"
   ]
  },
  {
   "cell_type": "code",
   "execution_count": 2,
   "metadata": {},
   "outputs": [
    {
     "data": {
      "text/plain": [
       "True"
      ]
     },
     "execution_count": 2,
     "metadata": {},
     "output_type": "execute_result"
    }
   ],
   "source": [
    "load_dotenv()"
   ]
  },
  {
   "cell_type": "code",
   "execution_count": 3,
   "metadata": {},
   "outputs": [
    {
     "name": "stdout",
     "output_type": "stream",
     "text": [
      "127.0.0.1 8000 Zaf_123456789\n"
     ]
    }
   ],
   "source": [
    "print(os.getenv(\"CHROMA_HOST\"), os.getenv(\"CHROMA_PORT\"), os.getenv(\"CHROMA_TOKEN\"))\n",
    "def get_chroma_client():\n",
    "    \"\"\"\n",
    "    Get a ChromaDB client\n",
    "    \"\"\"\n",
    "    return chromadb.HttpClient(\n",
    "        host=os.getenv(\"CHROMA_HOST\"),\n",
    "        port=os.getenv(\"CHROMA_PORT\"),\n",
    "        settings=ChromaSettings(\n",
    "            chroma_client_auth_provider=\"chromadb.auth.token_authn.TokenAuthClientProvider\",\n",
    "            chroma_client_auth_credentials=os.getenv(\"CHROMA_TOKEN\"),\n",
    "        ),\n",
    "    )\n",
    "\n"
   ]
  },
  {
   "cell_type": "code",
   "execution_count": 4,
   "metadata": {},
   "outputs": [],
   "source": [
    "chroma_client = get_chroma_client()\n",
    "chat_id = 6\n",
    "chroma_collection = chroma_client.get_or_create_collection(\"chat-\" + str(chat_id))"
   ]
  },
  {
   "cell_type": "code",
   "execution_count": null,
   "metadata": {},
   "outputs": [],
   "source": [
    "chroma_client= get_chroma_client()\n",
    "print(chroma_client)\n",
    "client = chromadb.Client()\n",
    "collection = client.get_or_create_collection(\"chat-6\")\n",
    "#chroma_client.get_collection(\"chat-6\")\n",
    "# chroma_collection = client.get_or_create_collection(\"chat-\" + str(6))\n",
    "# print(chroma_collection)\n",
    "coll = chroma_client.list_collections()\n",
    "print(coll)"
   ]
  },
  {
   "cell_type": "code",
   "execution_count": null,
   "metadata": {},
   "outputs": [],
   "source": [
    "from chromadb.config import Settings\n",
    "client = chromadb.Client(Settings(\n",
    "    persist_directory=\"./chroma\",  # Or your chosen path\n",
    "    is_persistent=True\n",
    "))\n",
    "\n",
    "collection = client.get_or_create_collection(\"chat-6\")\n",
    "print(client.list_collections())"
   ]
  },
  {
   "cell_type": "code",
   "execution_count": null,
   "metadata": {},
   "outputs": [],
   "source": []
  },
  {
   "cell_type": "code",
   "execution_count": null,
   "metadata": {},
   "outputs": [],
   "source": [
    "chroma_client = get_chroma_client()\n",
    "chat_id = 6\n",
    "chroma_collection = chroma_client.get_or_create_collection(\"chat-\" + str(chat_id))"
   ]
  },
  {
   "cell_type": "code",
   "execution_count": null,
   "metadata": {},
   "outputs": [],
   "source": [
    "chroma_collection.get()"
   ]
  }
 ],
 "metadata": {
  "kernelspec": {
   "display_name": ".venv",
   "language": "python",
   "name": "python3"
  },
  "language_info": {
   "codemirror_mode": {
    "name": "ipython",
    "version": 3
   },
   "file_extension": ".py",
   "mimetype": "text/x-python",
   "name": "python",
   "nbconvert_exporter": "python",
   "pygments_lexer": "ipython3",
   "version": "3.10.13"
  }
 },
 "nbformat": 4,
 "nbformat_minor": 2
}
