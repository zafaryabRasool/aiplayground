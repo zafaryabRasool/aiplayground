{
 "cells": [
  {
   "cell_type": "markdown",
   "metadata": {},
   "source": [
    "# Setup"
   ]
  },
  {
   "cell_type": "code",
   "execution_count": 2,
   "metadata": {},
   "outputs": [],
   "source": [
    "import os\n",
    "\n",
    "GRAPHD_HOST = \"127.0.0.1\"\n",
    "GRAPHD_PORT = \"9669\"\n",
    "NEBULA_USER = \"root\"\n",
    "NEBULA_PASSWORD = \"nebula\"\n",
    "NEBULA_ADDRESS = \"127.0.0.1:9669\"\n",
    "GOOGLE_API_KEY = \"\"\n",
    "\n",
    "os.environ[\"GRAPHD_HOST\"] = GRAPHD_HOST\n",
    "os.environ[\"GRAPHD_PORT\"] = GRAPHD_PORT\n",
    "os.environ[\"NEBULA_USER\"] = NEBULA_USER\n",
    "os.environ[\"NEBULA_PASSWORD\"] = NEBULA_PASSWORD\n",
    "os.environ[\"NEBULA_ADDRESS\"] = NEBULA_ADDRESS\n",
    "os.environ[\"GOOGLE_API_KEY\"] = GOOGLE_API_KEY\n",
    "os.environ[\"DEFAULT_NEBULAGRAPH_NL2CYPHER_PROMPT\"] = \"\""
   ]
  },
  {
   "cell_type": "code",
   "execution_count": 3,
   "metadata": {},
   "outputs": [],
   "source": [
    "import os\n",
    "\n",
    "GRAPHD_HOST = os.getenv(\"GRAPHD_HOST\")\n",
    "GRAPHD_PORT = os.getenv(\"GRAPHD_PORT\")\n",
    "NEBULA_USER = os.getenv(\"NEBULA_USER\")\n",
    "NEBULA_PASSWORD = os.getenv(\"NEBULA_PASSWORD\")\n",
    "NEBULA_ADDRESS = os.getenv(\"NEBULA_ADDRESS\")\n",
    "GOOGLE_API_KEY = os.getenv(\"GOOGLE_API_KEY\")"
   ]
  },
  {
   "cell_type": "code",
   "execution_count": 4,
   "metadata": {},
   "outputs": [
    {
     "name": "stderr",
     "output_type": "stream",
     "text": [
      "/opt/homebrew/anaconda3/envs/capstone/lib/python3.12/site-packages/tqdm/auto.py:21: TqdmWarning: IProgress not found. Please update jupyter and ipywidgets. See https://ipywidgets.readthedocs.io/en/stable/user_install.html\n",
      "  from .autonotebook import tqdm as notebook_tqdm\n"
     ]
    }
   ],
   "source": [
    "import os\n",
    "\n",
    "import logging\n",
    "import sys\n",
    "\n",
    "logging.basicConfig(stream=sys.stdout, level=logging.INFO)\n",
    "\n",
    "from llama_index.core import Settings\n",
    "\n",
    "\n",
    "import logging\n",
    "import sys\n",
    "\n",
    "\n",
    "from llama_index.llms.gemini import Gemini\n",
    "from llama_index.embeddings.gemini import GeminiEmbedding\n",
    "\n",
    "\n",
    "# define LLM\n",
    "llm = Gemini(temperature=0, model=\"models/gemini-pro\")\n",
    "query_llm = Gemini(temperature=0.5, model=\"models/gemini-pro\")\n",
    "embedding_model = GeminiEmbedding(\n",
    "    model_name=\"models/embedding-001\",\n",
    "    api_key=GOOGLE_API_KEY,\n",
    "    title=\"this is a document\",\n",
    ")\n",
    "\n",
    "Settings.llm = llm\n",
    "Settings.chunk_size = 512\n",
    "Settings.embed_model = embedding_model"
   ]
  },
  {
   "cell_type": "code",
   "execution_count": 7,
   "metadata": {},
   "outputs": [],
   "source": [
    "from llama_index.core import (\n",
    "    StorageContext,\n",
    "    VectorStoreIndex,\n",
    "    SimpleDirectoryReader,\n",
    "    KnowledgeGraphIndex,\n",
    ")\n",
    "from llama_index.graph_stores.nebula import NebulaGraphStore\n",
    "from IPython.display import Markdown, display"
   ]
  },
  {
   "cell_type": "markdown",
   "metadata": {},
   "source": [
    "# Create knowledge graph"
   ]
  },
  {
   "cell_type": "code",
   "execution_count": 41,
   "metadata": {},
   "outputs": [],
   "source": [
    "documents = SimpleDirectoryReader(\"../data/nih/alzheimers\").load_data()"
   ]
  },
  {
   "cell_type": "code",
   "execution_count": 5,
   "metadata": {},
   "outputs": [],
   "source": [
    "space_name = \"graph_rag_test\"\n",
    "edge_types, rel_prop_names = [\"relationship\"], [\n",
    "    \"relationship\"\n",
    "]  # default, could be omit if create from an empty kg\n",
    "tags = [\"entity\"]  # default, could be omit if create from an empty kg"
   ]
  },
  {
   "cell_type": "code",
   "execution_count": 18,
   "metadata": {},
   "outputs": [],
   "source": [
    "graph_store = NebulaGraphStore(\n",
    "    space_name=space_name,\n",
    "    edge_types=edge_types,\n",
    "    rel_prop_names=rel_prop_names,\n",
    "    tags=tags,\n",
    ")\n",
    "\n",
    "storage_context = StorageContext.from_defaults(graph_store=graph_store)\n",
    "\n",
    "# NOTE: can take a while!\n",
    "index = KnowledgeGraphIndex.from_documents(\n",
    "    documents,\n",
    "    storage_context=storage_context,\n",
    "    max_triplets_per_chunk=2,\n",
    "    space_name=space_name,\n",
    "    edge_types=edge_types,\n",
    "    rel_prop_names=rel_prop_names,\n",
    "    tags=tags,\n",
    ")"
   ]
  },
  {
   "cell_type": "markdown",
   "metadata": {},
   "source": [
    "# Persist and restore the knowledge graph"
   ]
  },
  {
   "cell_type": "code",
   "execution_count": 19,
   "metadata": {},
   "outputs": [
    {
     "name": "stdout",
     "output_type": "stream",
     "text": [
      "default__vector_store.json image__vector_store.json\n",
      "docstore.json              index_store.json\n"
     ]
    }
   ],
   "source": [
    "index.storage_context.persist(persist_dir=\"./storage_graph\")\n",
    "!ls storage_graph"
   ]
  },
  {
   "cell_type": "code",
   "execution_count": 8,
   "metadata": {},
   "outputs": [
    {
     "name": "stdout",
     "output_type": "stream",
     "text": [
      "INFO:llama_index.core.indices.loading:Loading all indices.\n"
     ]
    }
   ],
   "source": [
    "from llama_index.core import load_index_from_storage\n",
    "\n",
    "graph_store = NebulaGraphStore(\n",
    "    space_name=space_name,\n",
    "    edge_types=edge_types,\n",
    "    rel_prop_names=rel_prop_names,\n",
    "    tags=tags,\n",
    ")\n",
    "\n",
    "storage_context = StorageContext.from_defaults(\n",
    "    persist_dir=\"./storage_graph\", graph_store=graph_store\n",
    ")\n",
    "index = load_index_from_storage(\n",
    "    storage_context=storage_context,\n",
    "    max_triplets_per_chunk=2,\n",
    "    space_name=space_name,\n",
    "    edge_types=edge_types,\n",
    "    rel_prop_names=rel_prop_names,\n",
    "    tags=tags,\n",
    "    verbose=True,\n",
    ")"
   ]
  },
  {
   "cell_type": "markdown",
   "metadata": {},
   "source": [
    "# Query knowledge graph"
   ]
  },
  {
   "cell_type": "code",
   "execution_count": 29,
   "metadata": {},
   "outputs": [
    {
     "name": "stdout",
     "output_type": "stream",
     "text": [
      "WARNING:llama_index.core.indices.knowledge_graph.retrievers:Index was not constructed with embeddings, skipping embedding usage...\n",
      "INFO:llama_index.core.indices.knowledge_graph.retrievers:> Querying with idx: d713e5bf-8fa6-47c6-a27c-30f59f6d0041: {\"id_\": \"c5ccd49e-6386-4de5-96f4-bcf03df0619a\", \"embedding\": null, \"metadata\"...\n",
      "INFO:llama_index.core.indices.knowledge_graph.retrievers:> Querying with idx: b557e46a-ee34-4987-8b74-6b4b1d0b1d44: For example, scientists are learning how age-related changes in the brain may...\n",
      "INFO:llama_index.core.indices.knowledge_graph.retrievers:> Querying with idx: b3dd51cb-ffda-411d-b44a-0eeb54a01905: 89e\\u53f6\\u5931\\u667a\\u75c7\\u548c\\u8840\\u7ba1\\u6027\\u5931\\u667a\\u75c7\\u3002\\u...\n"
     ]
    },
    {
     "data": {
      "text/markdown": [
       "<b>Alzheimer's disease is a disease that affects the brain and causes memory loss, confusion, and changes in behavior. It is the most common type of dementia, which is a general term for a decline in cognitive function. Alzheimer's disease is caused by changes in the brain that occur over time, and it is not curable. However, there are treatments that can help to slow the progression of the disease and improve symptoms.</b>"
      ],
      "text/plain": [
       "<IPython.core.display.Markdown object>"
      ]
     },
     "metadata": {},
     "output_type": "display_data"
    }
   ],
   "source": [
    "query_engine = index.as_query_engine()\n",
    "\n",
    "response = query_engine.query(\"Tell me about Alzheimer's disease\")\n",
    "display(Markdown(f\"<b>{response}</b>\"))"
   ]
  },
  {
   "cell_type": "code",
   "execution_count": 81,
   "metadata": {},
   "outputs": [
    {
     "name": "stdout",
     "output_type": "stream",
     "text": [
      "\u001b[1;3;32mExtracted keywords: ['brain', 'Alzheimer', 'memory', 'decline', \"Alzheimer's disease\", 'cognitive decline', 'treatment', 'cognitive', 'aging', 'causes', 'dementia', 'loss', 'memory loss', 'symptoms', 'neurodegenerative', 'disease']\n",
      "\u001b[0mWARNING:llama_index.core.indices.knowledge_graph.retrievers:Index was not constructed with embeddings, skipping embedding usage...\n",
      "INFO:llama_index.core.indices.knowledge_graph.retrievers:> Querying with idx: d713e5bf-8fa6-47c6-a27c-30f59f6d0041: {\"id_\": \"c5ccd49e-6386-4de5-96f4-bcf03df0619a\", \"embedding\": null, \"metadata\"...\n",
      "INFO:llama_index.core.indices.knowledge_graph.retrievers:> Querying with idx: b557e46a-ee34-4987-8b74-6b4b1d0b1d44: For example, scientists are learning how age-related changes in the brain may...\n",
      "INFO:llama_index.core.indices.knowledge_graph.retrievers:> Querying with idx: b3dd51cb-ffda-411d-b44a-0eeb54a01905: 89e\\u53f6\\u5931\\u667a\\u75c7\\u548c\\u8840\\u7ba1\\u6027\\u5931\\u667a\\u75c7\\u3002\\u...\n",
      "\u001b[1;3;34mKG context:\n",
      "The following are knowledge sequence in max depth 2 in the form of directed graph like:\n",
      "`subject -[predicate]->, object, <-[predicate_next_hop]-, object_next_hop ...`\n",
      "Alzheimer's disease{name: Alzheimer's disease} <-[relationship:{relationship: Is hallmark of}]- Beta-amyloid plaques{name: Beta-amyloid plaques} <-[relationship:{relationship: Reduced}]- Dha{name: Dha}\n",
      "Alzheimer's disease{name: Alzheimer's disease} <-[relationship:{relationship: Analyze}]- People{name: People} -[relationship:{relationship: Have}]-> Risk of developing alzheimer's disease{name: Risk of developing alzheimer's disease}\n",
      "Alzheimer's disease{name: Alzheimer's disease} <-[relationship:{relationship: Analyze}]- People{name: People} -[relationship:{relationship: Have}]-> Potential{name: Potential}\n",
      "Alzheimer's disease{name: Alzheimer's disease} <-[relationship:{relationship: Analyze}]- People{name: People} -[relationship:{relationship: Have}]-> Memory{name: Memory}\n",
      "Alzheimer's disease{name: Alzheimer's disease} <-[relationship:{relationship: Analyze}]- People{name: People} -[relationship:{relationship: Have}]-> Cognitive{name: Cognitive}\n",
      "Alzheimer's disease{name: Alzheimer's disease} <-[relationship:{relationship: Analyze}]- People{name: People} -[relationship:{relationship: Have}]-> Alzheimers disease{name: Alzheimers disease}\n",
      "Alzheimer's disease{name: Alzheimer's disease} <-[relationship:{relationship: Have}]- People{name: People} -[relationship:{relationship: Analyze}]-> Alzheimer's disease{name: Alzheimer's disease}\n",
      "Alzheimer's disease{name: Alzheimer's disease} <-[relationship:{relationship: Have}]- People{name: People} -[relationship:{relationship: Have}]-> Memory{name: Memory}\n",
      "Alzheimer's disease{name: Alzheimer's disease} <-[relationship:{relationship: Have}]- People{name: People} -[relationship:{relationship: Have}]-> Dementia{name: Dementia}\n",
      "Alzheimer's disease{name: Alzheimer's disease} <-[relationship:{relationship: Have}]- People{name: People} -[relationship:{relationship: Have}]-> Cognitive{name: Cognitive}\n",
      "Alzheimer's disease{name: Alzheimer's disease} <-[relationship:{relationship: Develop}]- People with down syndrome{name: People with down syndrome} -[relationship:{relationship: Born with}]-> Extra copy of chromosome 21{name: Extra copy of chromosome 21}\n",
      "Alzheimer's disease{name: Alzheimer's disease} <-[relationship:{relationship: Has}]- Nia{name: Nia} -[relationship:{relationship: Funds}]-> Alzheimer's research{name: Alzheimer's research}\n",
      "Alzheimer's disease{name: Alzheimer's disease} <-[relationship:{relationship: Has}]- Nia{name: Nia} -[relationship:{relationship: Ensure}]-> Content is up to date{name: Content is up to date}\n",
      "Alzheimer's disease{name: Alzheimer's disease} <-[relationship:{relationship: Has}]- Nia{name: Nia} -[relationship:{relationship: Ensure}]-> Content is accurate{name: Content is accurate}\n",
      "Alzheimer's disease{name: Alzheimer's disease} <-[relationship:{relationship: Has}]- Nia{name: Nia} -[relationship:{relationship: Conducts}]-> Clinical trials{name: Clinical trials}\n",
      "Alzheimer's disease{name: Alzheimer's disease} <-[relationship:{relationship: Has}]- Nia{name: Nia} -[relationship:{relationship: Support}]-> Alzheimer's disease research centers{name: Alzheimer's disease research centers}\n",
      "Alzheimer's disease{name: Alzheimer's disease} -[relationship:{relationship: Has symptoms}]-> Memory problems{name: Memory problems} <-[relationship:{relationship: Has symptom}]- Alzheimer's{name: Alzheimer's}\n",
      "Alzheimer's disease{name: Alzheimer's disease} <-[relationship:{relationship: Has}]- Nia{name: Nia} -[relationship:{relationship: Provide}]-> Contact information via vulnerability disclosure policy{name: Contact information via vulnerability disclosure policy}\n",
      "Alzheimer's disease{name: Alzheimer's disease} -[relationship:{relationship: Has symptoms}]-> Memory problems{name: Memory problems} <-[relationship:{relationship: May include}]- Mci{name: Mci}\n",
      "Alzheimer's disease{name: Alzheimer's disease} -[relationship:{relationship: Influenced by}]-> Environmental factors{name: Environmental factors} <-[relationship:{relationship: Is influenced by}]- Alzheimer's disease{name: Alzheimer's disease}\n",
      "Alzheimer's disease{name: Alzheimer's disease} -[relationship:{relationship: Has connection with}]-> Down syndrome{name: Down syndrome} -[relationship:{relationship: Results from}]-> Having an extra chromosome 21{name: Having an extra chromosome 21}\n",
      "Alzheimer's disease{name: Alzheimer's disease} -[relationship:{relationship: Is}]-> Disease{name: Disease} <-[relationship:{relationship: Have}]- U4eba{name: U4eba}\n",
      "Alzheimer's disease{name: Alzheimer's disease} -[relationship:{relationship: May cause}]-> Hallucinations{name: Hallucinations}\n",
      "Alzheimer's disease{name: Alzheimer's disease} -[relationship:{relationship: Is caused by}]-> Genetic variants{name: Genetic variants} <-[relationship:{relationship: Cause}]- Alzheimer's disease{name: Alzheimer's disease}\n",
      "Alzheimer's disease{name: Alzheimer's disease} -[relationship:{relationship: Has connection with}]-> Down syndrome{name: Down syndrome} -[relationship:{relationship: Has connection with}]-> Alzheimer's{name: Alzheimer's}\n",
      "Alzheimer's disease{name: Alzheimer's disease} <-[relationship:{relationship: Has}]- Nia{name: Nia} -[relationship:{relationship: Has}]-> Mission{name: Mission}\n",
      "Alzheimer's disease{name: Alzheimer's disease} -[relationship:{relationship: Causes}]-> Memory loss{name: Memory loss} <-[relationship:{relationship: Is linked to}]- Paranoia{name: Paranoia}\n",
      "Alzheimer's disease{name: Alzheimer's disease} -[relationship:{relationship: Influenced by}]-> Multiple genes{name: Multiple genes} <-[relationship:{relationship: Influenced by}]- Alzheimer's{name: Alzheimer's}\n",
      "Alzheimer's disease{name: Alzheimer's disease} -[relationship:{relationship: Influenced by}]-> Lifestyle{name: Lifestyle} <-[relationship:{relationship: Influenced by}]- Alzheimer's{name: Alzheimer's}\n",
      "Alzheimer's disease{name: Alzheimer's disease} -[relationship:{relationship: Has connection with}]-> Down syndrome{name: Down syndrome} -[relationship:{relationship: Carries}]-> App gene{name: App gene}\n",
      "\u001b[0m"
     ]
    },
    {
     "data": {
      "text/markdown": [
       "<b>Alzheimer's disease is a disease that affects the brain. It is caused by genetic variants and is influenced by multiple genes in combination with lifestyle and environmental factors. Alzheimer's disease is not usually caused by a single genetic cause.</b>"
      ],
      "text/plain": [
       "<IPython.core.display.Markdown object>"
      ]
     },
     "metadata": {},
     "output_type": "display_data"
    },
    {
     "name": "stdout",
     "output_type": "stream",
     "text": [
      "\u001b[1;3;32mExtracted keywords: ['etiology', 'genetics', 'environment', 'lifestyle', 'age', 'brain changes', 'brain', 'risk factors', 'Alzheimer', \"Alzheimer's disease\", 'factors', 'family', 'history', 'causes', 'changes', 'risk', 'family history', 'disease']\n",
      "\u001b[0mWARNING:llama_index.core.indices.knowledge_graph.retrievers:Index was not constructed with embeddings, skipping embedding usage...\n",
      "INFO:llama_index.core.indices.knowledge_graph.retrievers:> Querying with idx: d713e5bf-8fa6-47c6-a27c-30f59f6d0041: {\"id_\": \"c5ccd49e-6386-4de5-96f4-bcf03df0619a\", \"embedding\": null, \"metadata\"...\n",
      "INFO:llama_index.core.indices.knowledge_graph.retrievers:> Querying with idx: b557e46a-ee34-4987-8b74-6b4b1d0b1d44: For example, scientists are learning how age-related changes in the brain may...\n",
      "INFO:llama_index.core.indices.knowledge_graph.retrievers:> Querying with idx: b3dd51cb-ffda-411d-b44a-0eeb54a01905: 89e\\u53f6\\u5931\\u667a\\u75c7\\u548c\\u8840\\u7ba1\\u6027\\u5931\\u667a\\u75c7\\u3002\\u...\n",
      "\u001b[1;3;34mKG context:\n",
      "The following are knowledge sequence in max depth 2 in the form of directed graph like:\n",
      "`subject -[predicate]->, object, <-[predicate_next_hop]-, object_next_hop ...`\n",
      "Alzheimer's disease{name: Alzheimer's disease} <-[relationship:{relationship: Is hallmark of}]- Beta-amyloid plaques{name: Beta-amyloid plaques} <-[relationship:{relationship: Reduced}]- Dha{name: Dha}\n",
      "Alzheimer's disease{name: Alzheimer's disease} <-[relationship:{relationship: Analyze}]- People{name: People} -[relationship:{relationship: Have}]-> Risk of developing alzheimer's disease{name: Risk of developing alzheimer's disease}\n",
      "Alzheimer's disease{name: Alzheimer's disease} <-[relationship:{relationship: Analyze}]- People{name: People} -[relationship:{relationship: Have}]-> Potential{name: Potential}\n",
      "Alzheimer's disease{name: Alzheimer's disease} <-[relationship:{relationship: Analyze}]- People{name: People} -[relationship:{relationship: Have}]-> Memory{name: Memory}\n",
      "Alzheimer's disease{name: Alzheimer's disease} <-[relationship:{relationship: Analyze}]- People{name: People} -[relationship:{relationship: Have}]-> Cognitive{name: Cognitive}\n",
      "Alzheimer's disease{name: Alzheimer's disease} <-[relationship:{relationship: Analyze}]- People{name: People} -[relationship:{relationship: Have}]-> Alzheimers disease{name: Alzheimers disease}\n",
      "Alzheimer's disease{name: Alzheimer's disease} <-[relationship:{relationship: Have}]- People{name: People} -[relationship:{relationship: Analyze}]-> Alzheimer's disease{name: Alzheimer's disease}\n",
      "Alzheimer's disease{name: Alzheimer's disease} <-[relationship:{relationship: Have}]- People{name: People} -[relationship:{relationship: Have}]-> Memory{name: Memory}\n",
      "Alzheimer's disease{name: Alzheimer's disease} <-[relationship:{relationship: Have}]- People{name: People} -[relationship:{relationship: Have}]-> Dementia{name: Dementia}\n",
      "Alzheimer's disease{name: Alzheimer's disease} <-[relationship:{relationship: Have}]- People{name: People} -[relationship:{relationship: Have}]-> Cognitive{name: Cognitive}\n",
      "Alzheimer's disease{name: Alzheimer's disease} <-[relationship:{relationship: Develop}]- People with down syndrome{name: People with down syndrome} -[relationship:{relationship: Born with}]-> Extra copy of chromosome 21{name: Extra copy of chromosome 21}\n",
      "Alzheimer's disease{name: Alzheimer's disease} <-[relationship:{relationship: Has}]- Nia{name: Nia} -[relationship:{relationship: Funds}]-> Alzheimer's research{name: Alzheimer's research}\n",
      "Alzheimer's disease{name: Alzheimer's disease} <-[relationship:{relationship: Has}]- Nia{name: Nia} -[relationship:{relationship: Ensure}]-> Content is up to date{name: Content is up to date}\n",
      "Alzheimer's disease{name: Alzheimer's disease} <-[relationship:{relationship: Has}]- Nia{name: Nia} -[relationship:{relationship: Ensure}]-> Content is accurate{name: Content is accurate}\n",
      "Alzheimer's disease{name: Alzheimer's disease} <-[relationship:{relationship: Has}]- Nia{name: Nia} -[relationship:{relationship: Conducts}]-> Clinical trials{name: Clinical trials}\n",
      "Alzheimer's disease{name: Alzheimer's disease} <-[relationship:{relationship: Has}]- Nia{name: Nia} -[relationship:{relationship: Support}]-> Alzheimer's disease research centers{name: Alzheimer's disease research centers}\n",
      "Alzheimer's disease{name: Alzheimer's disease} -[relationship:{relationship: Has symptoms}]-> Memory problems{name: Memory problems} <-[relationship:{relationship: Has symptom}]- Alzheimer's{name: Alzheimer's}\n",
      "Alzheimer's disease{name: Alzheimer's disease} <-[relationship:{relationship: Has}]- Nia{name: Nia} -[relationship:{relationship: Provide}]-> Contact information via vulnerability disclosure policy{name: Contact information via vulnerability disclosure policy}\n",
      "Alzheimer's disease{name: Alzheimer's disease} -[relationship:{relationship: Has symptoms}]-> Memory problems{name: Memory problems} <-[relationship:{relationship: May include}]- Mci{name: Mci}\n",
      "Alzheimer's disease{name: Alzheimer's disease} -[relationship:{relationship: Influenced by}]-> Environmental factors{name: Environmental factors} <-[relationship:{relationship: Is influenced by}]- Alzheimer's disease{name: Alzheimer's disease}\n",
      "Alzheimer's disease{name: Alzheimer's disease} -[relationship:{relationship: Has connection with}]-> Down syndrome{name: Down syndrome} -[relationship:{relationship: Results from}]-> Having an extra chromosome 21{name: Having an extra chromosome 21}\n",
      "Alzheimer's disease{name: Alzheimer's disease} -[relationship:{relationship: Is}]-> Disease{name: Disease} <-[relationship:{relationship: Have}]- U4eba{name: U4eba}\n",
      "Alzheimer's disease{name: Alzheimer's disease} -[relationship:{relationship: May cause}]-> Hallucinations{name: Hallucinations}\n",
      "Alzheimer's disease{name: Alzheimer's disease} -[relationship:{relationship: Is caused by}]-> Genetic variants{name: Genetic variants} <-[relationship:{relationship: Cause}]- Alzheimer's disease{name: Alzheimer's disease}\n",
      "Alzheimer's disease{name: Alzheimer's disease} -[relationship:{relationship: Has connection with}]-> Down syndrome{name: Down syndrome} -[relationship:{relationship: Has connection with}]-> Alzheimer's{name: Alzheimer's}\n",
      "Alzheimer's disease{name: Alzheimer's disease} <-[relationship:{relationship: Has}]- Nia{name: Nia} -[relationship:{relationship: Has}]-> Mission{name: Mission}\n",
      "Alzheimer's disease{name: Alzheimer's disease} -[relationship:{relationship: Causes}]-> Memory loss{name: Memory loss} <-[relationship:{relationship: Is linked to}]- Paranoia{name: Paranoia}\n",
      "Alzheimer's disease{name: Alzheimer's disease} -[relationship:{relationship: Influenced by}]-> Multiple genes{name: Multiple genes} <-[relationship:{relationship: Influenced by}]- Alzheimer's{name: Alzheimer's}\n",
      "Alzheimer's disease{name: Alzheimer's disease} -[relationship:{relationship: Influenced by}]-> Lifestyle{name: Lifestyle} <-[relationship:{relationship: Influenced by}]- Alzheimer's{name: Alzheimer's}\n",
      "Alzheimer's disease{name: Alzheimer's disease} -[relationship:{relationship: Has connection with}]-> Down syndrome{name: Down syndrome} -[relationship:{relationship: Carries}]-> App gene{name: App gene}\n",
      "\u001b[0m"
     ]
    },
    {
     "data": {
      "text/markdown": [
       "<b>Alzheimer's disease is caused by genetic variants.</b>"
      ],
      "text/plain": [
       "<IPython.core.display.Markdown object>"
      ]
     },
     "metadata": {},
     "output_type": "display_data"
    },
    {
     "name": "stdout",
     "output_type": "stream",
     "text": [
      "\u001b[1;3;32mExtracted keywords: ['Alzheimer', 'relationship', \"Alzheimer's disease\", 'dementia', 'disease']\n",
      "\u001b[0mWARNING:llama_index.core.indices.knowledge_graph.retrievers:Index was not constructed with embeddings, skipping embedding usage...\n",
      "INFO:llama_index.core.indices.knowledge_graph.retrievers:> Querying with idx: d713e5bf-8fa6-47c6-a27c-30f59f6d0041: {\"id_\": \"c5ccd49e-6386-4de5-96f4-bcf03df0619a\", \"embedding\": null, \"metadata\"...\n",
      "INFO:llama_index.core.indices.knowledge_graph.retrievers:> Querying with idx: b557e46a-ee34-4987-8b74-6b4b1d0b1d44: For example, scientists are learning how age-related changes in the brain may...\n",
      "INFO:llama_index.core.indices.knowledge_graph.retrievers:> Querying with idx: b3dd51cb-ffda-411d-b44a-0eeb54a01905: 89e\\u53f6\\u5931\\u667a\\u75c7\\u548c\\u8840\\u7ba1\\u6027\\u5931\\u667a\\u75c7\\u3002\\u...\n",
      "\u001b[1;3;34mKG context:\n",
      "The following are knowledge sequence in max depth 2 in the form of directed graph like:\n",
      "`subject -[predicate]->, object, <-[predicate_next_hop]-, object_next_hop ...`\n",
      "Alzheimer's disease{name: Alzheimer's disease} <-[relationship:{relationship: Is hallmark of}]- Beta-amyloid plaques{name: Beta-amyloid plaques} <-[relationship:{relationship: Reduced}]- Dha{name: Dha}\n",
      "Alzheimer's disease{name: Alzheimer's disease} <-[relationship:{relationship: Analyze}]- People{name: People} -[relationship:{relationship: Have}]-> Risk of developing alzheimer's disease{name: Risk of developing alzheimer's disease}\n",
      "Alzheimer's disease{name: Alzheimer's disease} <-[relationship:{relationship: Analyze}]- People{name: People} -[relationship:{relationship: Have}]-> Potential{name: Potential}\n",
      "Alzheimer's disease{name: Alzheimer's disease} <-[relationship:{relationship: Analyze}]- People{name: People} -[relationship:{relationship: Have}]-> Memory{name: Memory}\n",
      "Alzheimer's disease{name: Alzheimer's disease} <-[relationship:{relationship: Analyze}]- People{name: People} -[relationship:{relationship: Have}]-> Cognitive{name: Cognitive}\n",
      "Alzheimer's disease{name: Alzheimer's disease} <-[relationship:{relationship: Analyze}]- People{name: People} -[relationship:{relationship: Have}]-> Alzheimers disease{name: Alzheimers disease}\n",
      "Alzheimer's disease{name: Alzheimer's disease} <-[relationship:{relationship: Have}]- People{name: People} -[relationship:{relationship: Analyze}]-> Alzheimer's disease{name: Alzheimer's disease}\n",
      "Alzheimer's disease{name: Alzheimer's disease} <-[relationship:{relationship: Have}]- People{name: People} -[relationship:{relationship: Have}]-> Memory{name: Memory}\n",
      "Alzheimer's disease{name: Alzheimer's disease} <-[relationship:{relationship: Have}]- People{name: People} -[relationship:{relationship: Have}]-> Dementia{name: Dementia}\n",
      "Alzheimer's disease{name: Alzheimer's disease} <-[relationship:{relationship: Have}]- People{name: People} -[relationship:{relationship: Have}]-> Cognitive{name: Cognitive}\n",
      "Alzheimer's disease{name: Alzheimer's disease} <-[relationship:{relationship: Develop}]- People with down syndrome{name: People with down syndrome} -[relationship:{relationship: Born with}]-> Extra copy of chromosome 21{name: Extra copy of chromosome 21}\n",
      "Alzheimer's disease{name: Alzheimer's disease} <-[relationship:{relationship: Has}]- Nia{name: Nia} -[relationship:{relationship: Funds}]-> Alzheimer's research{name: Alzheimer's research}\n",
      "Alzheimer's disease{name: Alzheimer's disease} <-[relationship:{relationship: Has}]- Nia{name: Nia} -[relationship:{relationship: Ensure}]-> Content is up to date{name: Content is up to date}\n",
      "Alzheimer's disease{name: Alzheimer's disease} <-[relationship:{relationship: Has}]- Nia{name: Nia} -[relationship:{relationship: Ensure}]-> Content is accurate{name: Content is accurate}\n",
      "Alzheimer's disease{name: Alzheimer's disease} <-[relationship:{relationship: Has}]- Nia{name: Nia} -[relationship:{relationship: Conducts}]-> Clinical trials{name: Clinical trials}\n",
      "Alzheimer's disease{name: Alzheimer's disease} <-[relationship:{relationship: Has}]- Nia{name: Nia} -[relationship:{relationship: Support}]-> Alzheimer's disease research centers{name: Alzheimer's disease research centers}\n",
      "Alzheimer's disease{name: Alzheimer's disease} -[relationship:{relationship: Has symptoms}]-> Memory problems{name: Memory problems} <-[relationship:{relationship: Has symptom}]- Alzheimer's{name: Alzheimer's}\n",
      "Alzheimer's disease{name: Alzheimer's disease} <-[relationship:{relationship: Has}]- Nia{name: Nia} -[relationship:{relationship: Provide}]-> Contact information via vulnerability disclosure policy{name: Contact information via vulnerability disclosure policy}\n",
      "Alzheimer's disease{name: Alzheimer's disease} -[relationship:{relationship: Has symptoms}]-> Memory problems{name: Memory problems} <-[relationship:{relationship: May include}]- Mci{name: Mci}\n",
      "Alzheimer's disease{name: Alzheimer's disease} -[relationship:{relationship: Influenced by}]-> Environmental factors{name: Environmental factors} <-[relationship:{relationship: Is influenced by}]- Alzheimer's disease{name: Alzheimer's disease}\n",
      "Alzheimer's disease{name: Alzheimer's disease} -[relationship:{relationship: Has connection with}]-> Down syndrome{name: Down syndrome} -[relationship:{relationship: Results from}]-> Having an extra chromosome 21{name: Having an extra chromosome 21}\n",
      "Alzheimer's disease{name: Alzheimer's disease} -[relationship:{relationship: Is}]-> Disease{name: Disease} <-[relationship:{relationship: Have}]- U4eba{name: U4eba}\n",
      "Alzheimer's disease{name: Alzheimer's disease} -[relationship:{relationship: May cause}]-> Hallucinations{name: Hallucinations}\n",
      "Alzheimer's disease{name: Alzheimer's disease} -[relationship:{relationship: Is caused by}]-> Genetic variants{name: Genetic variants} <-[relationship:{relationship: Cause}]- Alzheimer's disease{name: Alzheimer's disease}\n",
      "Alzheimer's disease{name: Alzheimer's disease} -[relationship:{relationship: Has connection with}]-> Down syndrome{name: Down syndrome} -[relationship:{relationship: Has connection with}]-> Alzheimer's{name: Alzheimer's}\n",
      "Alzheimer's disease{name: Alzheimer's disease} <-[relationship:{relationship: Has}]- Nia{name: Nia} -[relationship:{relationship: Has}]-> Mission{name: Mission}\n",
      "Alzheimer's disease{name: Alzheimer's disease} -[relationship:{relationship: Causes}]-> Memory loss{name: Memory loss} <-[relationship:{relationship: Is linked to}]- Paranoia{name: Paranoia}\n",
      "Alzheimer's disease{name: Alzheimer's disease} -[relationship:{relationship: Influenced by}]-> Multiple genes{name: Multiple genes} <-[relationship:{relationship: Influenced by}]- Alzheimer's{name: Alzheimer's}\n",
      "Alzheimer's disease{name: Alzheimer's disease} -[relationship:{relationship: Influenced by}]-> Lifestyle{name: Lifestyle} <-[relationship:{relationship: Influenced by}]- Alzheimer's{name: Alzheimer's}\n",
      "Alzheimer's disease{name: Alzheimer's disease} -[relationship:{relationship: Has connection with}]-> Down syndrome{name: Down syndrome} -[relationship:{relationship: Carries}]-> App gene{name: App gene}\n",
      "\u001b[0m"
     ]
    },
    {
     "data": {
      "text/markdown": [
       "<b>Alzheimer's disease and dementia are related in that Alzheimer's disease is a type of dementia. Dementia is a general term for a decline in cognitive function that is severe enough to interfere with everyday activities. Alzheimer's disease is the most common type of dementia, accounting for 60-80% of cases.</b>"
      ],
      "text/plain": [
       "<IPython.core.display.Markdown object>"
      ]
     },
     "metadata": {},
     "output_type": "display_data"
    }
   ],
   "source": [
    "kg_index_query_engine = index.as_query_engine(\n",
    "    llm=query_llm,\n",
    "    retriever_mode=\"keyword\",\n",
    "    verbose=True,\n",
    "    response_mode=\"tree_summarize\",\n",
    "    temperature=0.5,\n",
    ")\n",
    "response = kg_index_query_engine.query(\"Tell me about Alzheimer's disease\")\n",
    "display(Markdown(f\"<b>{response}</b>\"))\n",
    "\n",
    "response = kg_index_query_engine.query(\"what causes Alzheimer's disease?\")\n",
    "display(Markdown(f\"<b>{response}</b>\"))\n",
    "\n",
    "response = kg_index_query_engine.query(\n",
    "    \"what is the relationship between Alzheimer's disease and dementia?\"\n",
    ")\n",
    "display(Markdown(f\"<b>{response}</b>\"))"
   ]
  },
  {
   "cell_type": "markdown",
   "metadata": {},
   "source": [
    "# Chat engine"
   ]
  },
  {
   "cell_type": "code",
   "execution_count": 38,
   "metadata": {},
   "outputs": [
    {
     "name": "stdout",
     "output_type": "stream",
     "text": [
      "\u001b[1;3;32mExtracted keywords: ['brain', 'Alzheimer', 'disorder', 'disease', 'treatment', 'aging', 'loss', 'memory loss', 'neurodegenerative', 'memory', 'brain disorder', 'risk factors', 'decline', \"Alzheimer's disease\", 'factors', 'cognitive decline', 'neurodegenerative disease', 'dementia', 'symptoms', 'risk', 'cognitive']\n",
      "\u001b[0mWARNING:llama_index.core.indices.knowledge_graph.retrievers:Index was not constructed with embeddings, skipping embedding usage...\n",
      "INFO:llama_index.core.indices.knowledge_graph.retrievers:> Querying with idx: d713e5bf-8fa6-47c6-a27c-30f59f6d0041: {\"id_\": \"c5ccd49e-6386-4de5-96f4-bcf03df0619a\", \"embedding\": null, \"metadata\"...\n",
      "INFO:llama_index.core.indices.knowledge_graph.retrievers:> Querying with idx: b557e46a-ee34-4987-8b74-6b4b1d0b1d44: For example, scientists are learning how age-related changes in the brain may...\n",
      "INFO:llama_index.core.indices.knowledge_graph.retrievers:> Querying with idx: b3dd51cb-ffda-411d-b44a-0eeb54a01905: 89e\\u53f6\\u5931\\u667a\\u75c7\\u548c\\u8840\\u7ba1\\u6027\\u5931\\u667a\\u75c7\\u3002\\u...\n",
      "\u001b[1;3;34mKG context:\n",
      "The following are knowledge sequence in max depth 2 in the form of directed graph like:\n",
      "`subject -[predicate]->, object, <-[predicate_next_hop]-, object_next_hop ...`\n",
      "Alzheimer's disease{name: Alzheimer's disease} <-[relationship:{relationship: Is hallmark of}]- Beta-amyloid plaques{name: Beta-amyloid plaques} <-[relationship:{relationship: Reduced}]- Dha{name: Dha}\n",
      "Alzheimer's disease{name: Alzheimer's disease} <-[relationship:{relationship: Analyze}]- People{name: People} -[relationship:{relationship: Have}]-> Risk of developing alzheimer's disease{name: Risk of developing alzheimer's disease}\n",
      "Alzheimer's disease{name: Alzheimer's disease} <-[relationship:{relationship: Analyze}]- People{name: People} -[relationship:{relationship: Have}]-> Potential{name: Potential}\n",
      "Alzheimer's disease{name: Alzheimer's disease} <-[relationship:{relationship: Analyze}]- People{name: People} -[relationship:{relationship: Have}]-> Memory{name: Memory}\n",
      "Alzheimer's disease{name: Alzheimer's disease} <-[relationship:{relationship: Analyze}]- People{name: People} -[relationship:{relationship: Have}]-> Cognitive{name: Cognitive}\n",
      "Alzheimer's disease{name: Alzheimer's disease} <-[relationship:{relationship: Analyze}]- People{name: People} -[relationship:{relationship: Have}]-> Alzheimers disease{name: Alzheimers disease}\n",
      "Alzheimer's disease{name: Alzheimer's disease} <-[relationship:{relationship: Have}]- People{name: People} -[relationship:{relationship: Analyze}]-> Alzheimer's disease{name: Alzheimer's disease}\n",
      "Alzheimer's disease{name: Alzheimer's disease} <-[relationship:{relationship: Have}]- People{name: People} -[relationship:{relationship: Have}]-> Memory{name: Memory}\n",
      "Alzheimer's disease{name: Alzheimer's disease} <-[relationship:{relationship: Have}]- People{name: People} -[relationship:{relationship: Have}]-> Dementia{name: Dementia}\n",
      "Alzheimer's disease{name: Alzheimer's disease} <-[relationship:{relationship: Have}]- People{name: People} -[relationship:{relationship: Have}]-> Cognitive{name: Cognitive}\n",
      "Alzheimer's disease{name: Alzheimer's disease} <-[relationship:{relationship: Develop}]- People with down syndrome{name: People with down syndrome} -[relationship:{relationship: Born with}]-> Extra copy of chromosome 21{name: Extra copy of chromosome 21}\n",
      "Alzheimer's disease{name: Alzheimer's disease} <-[relationship:{relationship: Has}]- Nia{name: Nia} -[relationship:{relationship: Funds}]-> Alzheimer's research{name: Alzheimer's research}\n",
      "Alzheimer's disease{name: Alzheimer's disease} <-[relationship:{relationship: Has}]- Nia{name: Nia} -[relationship:{relationship: Ensure}]-> Content is up to date{name: Content is up to date}\n",
      "Alzheimer's disease{name: Alzheimer's disease} <-[relationship:{relationship: Has}]- Nia{name: Nia} -[relationship:{relationship: Ensure}]-> Content is accurate{name: Content is accurate}\n",
      "Alzheimer's disease{name: Alzheimer's disease} <-[relationship:{relationship: Has}]- Nia{name: Nia} -[relationship:{relationship: Conducts}]-> Clinical trials{name: Clinical trials}\n",
      "Alzheimer's disease{name: Alzheimer's disease} <-[relationship:{relationship: Has}]- Nia{name: Nia} -[relationship:{relationship: Support}]-> Alzheimer's disease research centers{name: Alzheimer's disease research centers}\n",
      "Alzheimer's disease{name: Alzheimer's disease} -[relationship:{relationship: Has symptoms}]-> Memory problems{name: Memory problems} <-[relationship:{relationship: Has symptom}]- Alzheimer's{name: Alzheimer's}\n",
      "Alzheimer's disease{name: Alzheimer's disease} <-[relationship:{relationship: Has}]- Nia{name: Nia} -[relationship:{relationship: Provide}]-> Contact information via vulnerability disclosure policy{name: Contact information via vulnerability disclosure policy}\n",
      "Alzheimer's disease{name: Alzheimer's disease} -[relationship:{relationship: Has symptoms}]-> Memory problems{name: Memory problems} <-[relationship:{relationship: May include}]- Mci{name: Mci}\n",
      "Alzheimer's disease{name: Alzheimer's disease} -[relationship:{relationship: Influenced by}]-> Environmental factors{name: Environmental factors} <-[relationship:{relationship: Is influenced by}]- Alzheimer's disease{name: Alzheimer's disease}\n",
      "Alzheimer's disease{name: Alzheimer's disease} -[relationship:{relationship: Has connection with}]-> Down syndrome{name: Down syndrome} -[relationship:{relationship: Results from}]-> Having an extra chromosome 21{name: Having an extra chromosome 21}\n",
      "Alzheimer's disease{name: Alzheimer's disease} -[relationship:{relationship: Is}]-> Disease{name: Disease} <-[relationship:{relationship: Have}]- U4eba{name: U4eba}\n",
      "Alzheimer's disease{name: Alzheimer's disease} -[relationship:{relationship: May cause}]-> Hallucinations{name: Hallucinations}\n",
      "Alzheimer's disease{name: Alzheimer's disease} -[relationship:{relationship: Is caused by}]-> Genetic variants{name: Genetic variants} <-[relationship:{relationship: Cause}]- Alzheimer's disease{name: Alzheimer's disease}\n",
      "Alzheimer's disease{name: Alzheimer's disease} -[relationship:{relationship: Has connection with}]-> Down syndrome{name: Down syndrome} -[relationship:{relationship: Has connection with}]-> Alzheimer's{name: Alzheimer's}\n",
      "Alzheimer's disease{name: Alzheimer's disease} <-[relationship:{relationship: Has}]- Nia{name: Nia} -[relationship:{relationship: Has}]-> Mission{name: Mission}\n",
      "Alzheimer's disease{name: Alzheimer's disease} -[relationship:{relationship: Causes}]-> Memory loss{name: Memory loss} <-[relationship:{relationship: Is linked to}]- Paranoia{name: Paranoia}\n",
      "Alzheimer's disease{name: Alzheimer's disease} -[relationship:{relationship: Influenced by}]-> Multiple genes{name: Multiple genes} <-[relationship:{relationship: Influenced by}]- Alzheimer's{name: Alzheimer's}\n",
      "Alzheimer's disease{name: Alzheimer's disease} -[relationship:{relationship: Influenced by}]-> Lifestyle{name: Lifestyle} <-[relationship:{relationship: Influenced by}]- Alzheimer's{name: Alzheimer's}\n",
      "Alzheimer's disease{name: Alzheimer's disease} -[relationship:{relationship: Has connection with}]-> Down syndrome{name: Down syndrome} -[relationship:{relationship: Carries}]-> App gene{name: App gene}\n",
      "\u001b[0m"
     ]
    },
    {
     "data": {
      "text/markdown": [
       "<b>Alzheimer's disease is a disease that affects the brain and causes memory loss, confusion, and changes in behavior. It is the most common type of dementia, which is a general term for a decline in cognitive function.</b>"
      ],
      "text/plain": [
       "<IPython.core.display.Markdown object>"
      ]
     },
     "metadata": {},
     "output_type": "display_data"
    },
    {
     "name": "stdout",
     "output_type": "stream",
     "text": [
      "\u001b[1;3;32mExtracted keywords: ['etiology', 'genetics', 'environment', 'lifestyle', 'age', 'brain changes', 'brain', 'risk factors', 'Alzheimer', \"Alzheimer's disease\", 'factors', 'family', 'history', 'causes', 'changes', 'risk', 'family history', 'disease']\n",
      "\u001b[0mWARNING:llama_index.core.indices.knowledge_graph.retrievers:Index was not constructed with embeddings, skipping embedding usage...\n",
      "INFO:llama_index.core.indices.knowledge_graph.retrievers:> Querying with idx: d713e5bf-8fa6-47c6-a27c-30f59f6d0041: {\"id_\": \"c5ccd49e-6386-4de5-96f4-bcf03df0619a\", \"embedding\": null, \"metadata\"...\n",
      "INFO:llama_index.core.indices.knowledge_graph.retrievers:> Querying with idx: b557e46a-ee34-4987-8b74-6b4b1d0b1d44: For example, scientists are learning how age-related changes in the brain may...\n",
      "INFO:llama_index.core.indices.knowledge_graph.retrievers:> Querying with idx: b3dd51cb-ffda-411d-b44a-0eeb54a01905: 89e\\u53f6\\u5931\\u667a\\u75c7\\u548c\\u8840\\u7ba1\\u6027\\u5931\\u667a\\u75c7\\u3002\\u...\n",
      "\u001b[1;3;34mKG context:\n",
      "The following are knowledge sequence in max depth 2 in the form of directed graph like:\n",
      "`subject -[predicate]->, object, <-[predicate_next_hop]-, object_next_hop ...`\n",
      "Alzheimer's disease{name: Alzheimer's disease} <-[relationship:{relationship: Is hallmark of}]- Beta-amyloid plaques{name: Beta-amyloid plaques} <-[relationship:{relationship: Reduced}]- Dha{name: Dha}\n",
      "Alzheimer's disease{name: Alzheimer's disease} <-[relationship:{relationship: Analyze}]- People{name: People} -[relationship:{relationship: Have}]-> Risk of developing alzheimer's disease{name: Risk of developing alzheimer's disease}\n",
      "Alzheimer's disease{name: Alzheimer's disease} <-[relationship:{relationship: Analyze}]- People{name: People} -[relationship:{relationship: Have}]-> Potential{name: Potential}\n",
      "Alzheimer's disease{name: Alzheimer's disease} <-[relationship:{relationship: Analyze}]- People{name: People} -[relationship:{relationship: Have}]-> Memory{name: Memory}\n",
      "Alzheimer's disease{name: Alzheimer's disease} <-[relationship:{relationship: Analyze}]- People{name: People} -[relationship:{relationship: Have}]-> Cognitive{name: Cognitive}\n",
      "Alzheimer's disease{name: Alzheimer's disease} <-[relationship:{relationship: Analyze}]- People{name: People} -[relationship:{relationship: Have}]-> Alzheimers disease{name: Alzheimers disease}\n",
      "Alzheimer's disease{name: Alzheimer's disease} <-[relationship:{relationship: Have}]- People{name: People} -[relationship:{relationship: Analyze}]-> Alzheimer's disease{name: Alzheimer's disease}\n",
      "Alzheimer's disease{name: Alzheimer's disease} <-[relationship:{relationship: Have}]- People{name: People} -[relationship:{relationship: Have}]-> Memory{name: Memory}\n",
      "Alzheimer's disease{name: Alzheimer's disease} <-[relationship:{relationship: Have}]- People{name: People} -[relationship:{relationship: Have}]-> Dementia{name: Dementia}\n",
      "Alzheimer's disease{name: Alzheimer's disease} <-[relationship:{relationship: Have}]- People{name: People} -[relationship:{relationship: Have}]-> Cognitive{name: Cognitive}\n",
      "Alzheimer's disease{name: Alzheimer's disease} <-[relationship:{relationship: Develop}]- People with down syndrome{name: People with down syndrome} -[relationship:{relationship: Born with}]-> Extra copy of chromosome 21{name: Extra copy of chromosome 21}\n",
      "Alzheimer's disease{name: Alzheimer's disease} <-[relationship:{relationship: Has}]- Nia{name: Nia} -[relationship:{relationship: Funds}]-> Alzheimer's research{name: Alzheimer's research}\n",
      "Alzheimer's disease{name: Alzheimer's disease} <-[relationship:{relationship: Has}]- Nia{name: Nia} -[relationship:{relationship: Ensure}]-> Content is up to date{name: Content is up to date}\n",
      "Alzheimer's disease{name: Alzheimer's disease} <-[relationship:{relationship: Has}]- Nia{name: Nia} -[relationship:{relationship: Ensure}]-> Content is accurate{name: Content is accurate}\n",
      "Alzheimer's disease{name: Alzheimer's disease} <-[relationship:{relationship: Has}]- Nia{name: Nia} -[relationship:{relationship: Conducts}]-> Clinical trials{name: Clinical trials}\n",
      "Alzheimer's disease{name: Alzheimer's disease} <-[relationship:{relationship: Has}]- Nia{name: Nia} -[relationship:{relationship: Support}]-> Alzheimer's disease research centers{name: Alzheimer's disease research centers}\n",
      "Alzheimer's disease{name: Alzheimer's disease} -[relationship:{relationship: Has symptoms}]-> Memory problems{name: Memory problems} <-[relationship:{relationship: Has symptom}]- Alzheimer's{name: Alzheimer's}\n",
      "Alzheimer's disease{name: Alzheimer's disease} <-[relationship:{relationship: Has}]- Nia{name: Nia} -[relationship:{relationship: Provide}]-> Contact information via vulnerability disclosure policy{name: Contact information via vulnerability disclosure policy}\n",
      "Alzheimer's disease{name: Alzheimer's disease} -[relationship:{relationship: Has symptoms}]-> Memory problems{name: Memory problems} <-[relationship:{relationship: May include}]- Mci{name: Mci}\n",
      "Alzheimer's disease{name: Alzheimer's disease} -[relationship:{relationship: Influenced by}]-> Environmental factors{name: Environmental factors} <-[relationship:{relationship: Is influenced by}]- Alzheimer's disease{name: Alzheimer's disease}\n",
      "Alzheimer's disease{name: Alzheimer's disease} -[relationship:{relationship: Has connection with}]-> Down syndrome{name: Down syndrome} -[relationship:{relationship: Results from}]-> Having an extra chromosome 21{name: Having an extra chromosome 21}\n",
      "Alzheimer's disease{name: Alzheimer's disease} -[relationship:{relationship: Is}]-> Disease{name: Disease} <-[relationship:{relationship: Have}]- U4eba{name: U4eba}\n",
      "Alzheimer's disease{name: Alzheimer's disease} -[relationship:{relationship: May cause}]-> Hallucinations{name: Hallucinations}\n",
      "Alzheimer's disease{name: Alzheimer's disease} -[relationship:{relationship: Is caused by}]-> Genetic variants{name: Genetic variants} <-[relationship:{relationship: Cause}]- Alzheimer's disease{name: Alzheimer's disease}\n",
      "Alzheimer's disease{name: Alzheimer's disease} -[relationship:{relationship: Has connection with}]-> Down syndrome{name: Down syndrome} -[relationship:{relationship: Has connection with}]-> Alzheimer's{name: Alzheimer's}\n",
      "Alzheimer's disease{name: Alzheimer's disease} <-[relationship:{relationship: Has}]- Nia{name: Nia} -[relationship:{relationship: Has}]-> Mission{name: Mission}\n",
      "Alzheimer's disease{name: Alzheimer's disease} -[relationship:{relationship: Causes}]-> Memory loss{name: Memory loss} <-[relationship:{relationship: Is linked to}]- Paranoia{name: Paranoia}\n",
      "Alzheimer's disease{name: Alzheimer's disease} -[relationship:{relationship: Influenced by}]-> Multiple genes{name: Multiple genes} <-[relationship:{relationship: Influenced by}]- Alzheimer's{name: Alzheimer's}\n",
      "Alzheimer's disease{name: Alzheimer's disease} -[relationship:{relationship: Influenced by}]-> Lifestyle{name: Lifestyle} <-[relationship:{relationship: Influenced by}]- Alzheimer's{name: Alzheimer's}\n",
      "Alzheimer's disease{name: Alzheimer's disease} -[relationship:{relationship: Has connection with}]-> Down syndrome{name: Down syndrome} -[relationship:{relationship: Carries}]-> App gene{name: App gene}\n",
      "\u001b[0m"
     ]
    },
    {
     "data": {
      "text/markdown": [
       "<b>The exact cause of Alzheimer's disease is unknown, but it is thought to be caused by a combination of genetic, environmental, and lifestyle factors. Some of the risk factors for Alzheimer's disease include:\n",
       "\n",
       "* Age: The risk of Alzheimer's disease increases with age.\n",
       "* Family history: People who have a family history of Alzheimer's disease are more likely to develop the disease themselves.\n",
       "* Genetics: Certain genes have been linked to an increased risk of Alzheimer's disease.\n",
       "* Head injury: People who have suffered a head injury are more likely to develop Alzheimer's disease later in life.\n",
       "* Heart disease: People who have heart disease are more likely to develop Alzheimer's disease.\n",
       "* Diabetes: People who have diabetes are more likely to develop Alzheimer's disease.\n",
       "* Obesity: People who are obese are more likely to develop Alzheimer's disease.\n",
       "* Smoking: People who smoke are more likely to develop Alzheimer's disease.\n",
       "* Alcohol abuse: People who abuse alcohol are more likely to develop Alzheimer's disease.\n",
       "\n",
       "It is important to note that not everyone who has one or more of these risk factors will develop Alzheimer's disease. However, these factors can increase the risk of developing the disease.</b>"
      ],
      "text/plain": [
       "<IPython.core.display.Markdown object>"
      ]
     },
     "metadata": {},
     "output_type": "display_data"
    },
    {
     "name": "stdout",
     "output_type": "stream",
     "text": [
      "\u001b[1;3;32mExtracted keywords: ['Alzheimer', 'relationship', \"Alzheimer's disease\", 'dementia', 'disease']\n",
      "\u001b[0mWARNING:llama_index.core.indices.knowledge_graph.retrievers:Index was not constructed with embeddings, skipping embedding usage...\n",
      "INFO:llama_index.core.indices.knowledge_graph.retrievers:> Querying with idx: d713e5bf-8fa6-47c6-a27c-30f59f6d0041: {\"id_\": \"c5ccd49e-6386-4de5-96f4-bcf03df0619a\", \"embedding\": null, \"metadata\"...\n",
      "INFO:llama_index.core.indices.knowledge_graph.retrievers:> Querying with idx: b557e46a-ee34-4987-8b74-6b4b1d0b1d44: For example, scientists are learning how age-related changes in the brain may...\n",
      "INFO:llama_index.core.indices.knowledge_graph.retrievers:> Querying with idx: b3dd51cb-ffda-411d-b44a-0eeb54a01905: 89e\\u53f6\\u5931\\u667a\\u75c7\\u548c\\u8840\\u7ba1\\u6027\\u5931\\u667a\\u75c7\\u3002\\u...\n",
      "\u001b[1;3;34mKG context:\n",
      "The following are knowledge sequence in max depth 2 in the form of directed graph like:\n",
      "`subject -[predicate]->, object, <-[predicate_next_hop]-, object_next_hop ...`\n",
      "Alzheimer's disease{name: Alzheimer's disease} <-[relationship:{relationship: Is hallmark of}]- Beta-amyloid plaques{name: Beta-amyloid plaques} <-[relationship:{relationship: Reduced}]- Dha{name: Dha}\n",
      "Alzheimer's disease{name: Alzheimer's disease} <-[relationship:{relationship: Analyze}]- People{name: People} -[relationship:{relationship: Have}]-> Risk of developing alzheimer's disease{name: Risk of developing alzheimer's disease}\n",
      "Alzheimer's disease{name: Alzheimer's disease} <-[relationship:{relationship: Analyze}]- People{name: People} -[relationship:{relationship: Have}]-> Potential{name: Potential}\n",
      "Alzheimer's disease{name: Alzheimer's disease} <-[relationship:{relationship: Analyze}]- People{name: People} -[relationship:{relationship: Have}]-> Memory{name: Memory}\n",
      "Alzheimer's disease{name: Alzheimer's disease} <-[relationship:{relationship: Analyze}]- People{name: People} -[relationship:{relationship: Have}]-> Cognitive{name: Cognitive}\n",
      "Alzheimer's disease{name: Alzheimer's disease} <-[relationship:{relationship: Analyze}]- People{name: People} -[relationship:{relationship: Have}]-> Alzheimers disease{name: Alzheimers disease}\n",
      "Alzheimer's disease{name: Alzheimer's disease} <-[relationship:{relationship: Have}]- People{name: People} -[relationship:{relationship: Analyze}]-> Alzheimer's disease{name: Alzheimer's disease}\n",
      "Alzheimer's disease{name: Alzheimer's disease} <-[relationship:{relationship: Have}]- People{name: People} -[relationship:{relationship: Have}]-> Memory{name: Memory}\n",
      "Alzheimer's disease{name: Alzheimer's disease} <-[relationship:{relationship: Have}]- People{name: People} -[relationship:{relationship: Have}]-> Dementia{name: Dementia}\n",
      "Alzheimer's disease{name: Alzheimer's disease} <-[relationship:{relationship: Have}]- People{name: People} -[relationship:{relationship: Have}]-> Cognitive{name: Cognitive}\n",
      "Alzheimer's disease{name: Alzheimer's disease} <-[relationship:{relationship: Develop}]- People with down syndrome{name: People with down syndrome} -[relationship:{relationship: Born with}]-> Extra copy of chromosome 21{name: Extra copy of chromosome 21}\n",
      "Alzheimer's disease{name: Alzheimer's disease} <-[relationship:{relationship: Has}]- Nia{name: Nia} -[relationship:{relationship: Funds}]-> Alzheimer's research{name: Alzheimer's research}\n",
      "Alzheimer's disease{name: Alzheimer's disease} <-[relationship:{relationship: Has}]- Nia{name: Nia} -[relationship:{relationship: Ensure}]-> Content is up to date{name: Content is up to date}\n",
      "Alzheimer's disease{name: Alzheimer's disease} <-[relationship:{relationship: Has}]- Nia{name: Nia} -[relationship:{relationship: Ensure}]-> Content is accurate{name: Content is accurate}\n",
      "Alzheimer's disease{name: Alzheimer's disease} <-[relationship:{relationship: Has}]- Nia{name: Nia} -[relationship:{relationship: Conducts}]-> Clinical trials{name: Clinical trials}\n",
      "Alzheimer's disease{name: Alzheimer's disease} <-[relationship:{relationship: Has}]- Nia{name: Nia} -[relationship:{relationship: Support}]-> Alzheimer's disease research centers{name: Alzheimer's disease research centers}\n",
      "Alzheimer's disease{name: Alzheimer's disease} -[relationship:{relationship: Has symptoms}]-> Memory problems{name: Memory problems} <-[relationship:{relationship: Has symptom}]- Alzheimer's{name: Alzheimer's}\n",
      "Alzheimer's disease{name: Alzheimer's disease} <-[relationship:{relationship: Has}]- Nia{name: Nia} -[relationship:{relationship: Provide}]-> Contact information via vulnerability disclosure policy{name: Contact information via vulnerability disclosure policy}\n",
      "Alzheimer's disease{name: Alzheimer's disease} -[relationship:{relationship: Has symptoms}]-> Memory problems{name: Memory problems} <-[relationship:{relationship: May include}]- Mci{name: Mci}\n",
      "Alzheimer's disease{name: Alzheimer's disease} -[relationship:{relationship: Influenced by}]-> Environmental factors{name: Environmental factors} <-[relationship:{relationship: Is influenced by}]- Alzheimer's disease{name: Alzheimer's disease}\n",
      "Alzheimer's disease{name: Alzheimer's disease} -[relationship:{relationship: Has connection with}]-> Down syndrome{name: Down syndrome} -[relationship:{relationship: Results from}]-> Having an extra chromosome 21{name: Having an extra chromosome 21}\n",
      "Alzheimer's disease{name: Alzheimer's disease} -[relationship:{relationship: Is}]-> Disease{name: Disease} <-[relationship:{relationship: Have}]- U4eba{name: U4eba}\n",
      "Alzheimer's disease{name: Alzheimer's disease} -[relationship:{relationship: May cause}]-> Hallucinations{name: Hallucinations}\n",
      "Alzheimer's disease{name: Alzheimer's disease} -[relationship:{relationship: Is caused by}]-> Genetic variants{name: Genetic variants} <-[relationship:{relationship: Cause}]- Alzheimer's disease{name: Alzheimer's disease}\n",
      "Alzheimer's disease{name: Alzheimer's disease} -[relationship:{relationship: Has connection with}]-> Down syndrome{name: Down syndrome} -[relationship:{relationship: Has connection with}]-> Alzheimer's{name: Alzheimer's}\n",
      "Alzheimer's disease{name: Alzheimer's disease} <-[relationship:{relationship: Has}]- Nia{name: Nia} -[relationship:{relationship: Has}]-> Mission{name: Mission}\n",
      "Alzheimer's disease{name: Alzheimer's disease} -[relationship:{relationship: Causes}]-> Memory loss{name: Memory loss} <-[relationship:{relationship: Is linked to}]- Paranoia{name: Paranoia}\n",
      "Alzheimer's disease{name: Alzheimer's disease} -[relationship:{relationship: Influenced by}]-> Multiple genes{name: Multiple genes} <-[relationship:{relationship: Influenced by}]- Alzheimer's{name: Alzheimer's}\n",
      "Alzheimer's disease{name: Alzheimer's disease} -[relationship:{relationship: Influenced by}]-> Lifestyle{name: Lifestyle} <-[relationship:{relationship: Influenced by}]- Alzheimer's{name: Alzheimer's}\n",
      "Alzheimer's disease{name: Alzheimer's disease} -[relationship:{relationship: Has connection with}]-> Down syndrome{name: Down syndrome} -[relationship:{relationship: Carries}]-> App gene{name: App gene}\n",
      "\u001b[0m"
     ]
    },
    {
     "data": {
      "text/markdown": [
       "<b>Alzheimer's disease is the most common type of dementia. Dementia is a general term for a decline in cognitive function that is severe enough to interfere with everyday activities. Alzheimer's disease accounts for 60-80% of all dementia cases.\n",
       "\n",
       "The symptoms of Alzheimer's disease and dementia can be similar, including memory loss, confusion, and changes in behavior. However, there are some key differences between the two conditions.\n",
       "\n",
       "* **Alzheimer's disease is a progressive disease**, meaning that the symptoms will gradually worsen over time. Dementia can be caused by a variety of conditions, some of which are reversible.\n",
       "* **Alzheimer's disease is caused by changes in the brain**, including the accumulation of amyloid plaques and tau tangles. Dementia can be caused by a variety of factors, including Alzheimer's disease, stroke, Parkinson's disease, and Huntington's disease.\n",
       "\n",
       "There is no cure for Alzheimer's disease or dementia, but there are treatments that can help to manage the symptoms.\n",
       "\n",
       "**Relationship between Alzheimer's disease and dementia**\n",
       "\n",
       "Alzheimer's disease is a type of dementia. Dementia is a general term for a decline in cognitive function that is severe enough to interfere with everyday activities. Alzheimer's disease is the most common type of dementia, accounting for 60-80% of all cases.\n",
       "\n",
       "The symptoms of Alzheimer's disease and dementia can be similar, including memory loss, confusion, and changes in behavior. However, there are some key differences between the two conditions.\n",
       "\n",
       "* **Alzheimer's disease is a progressive disease**, meaning that the symptoms will gradually worsen over time. Dementia can be caused by a variety of conditions, some of which are reversible.\n",
       "* **Alzheimer's disease is caused by changes in the brain**, including the accumulation of amyloid plaques and tau tangles. Dementia can be caused by a variety of factors, including Alzheimer's disease, stroke, Parkinson's disease, and Huntington's disease.\n",
       "\n",
       "There is no cure for Alzheimer's disease or dementia, but there are treatments that can help to manage the symptoms.</b>"
      ],
      "text/plain": [
       "<IPython.core.display.Markdown object>"
      ]
     },
     "metadata": {},
     "output_type": "display_data"
    }
   ],
   "source": [
    "from llama_index.core.memory import ChatMemoryBuffer\n",
    "\n",
    "memory = ChatMemoryBuffer.from_defaults(token_limit=5000)\n",
    "\n",
    "chat_engine = index.as_chat_engine(chat_mode=\"context\", memory=memory, verbose=True)\n",
    "response = chat_engine.chat(\"what is Alzheimer's disease?\")\n",
    "display(Markdown(f\"<b>{response}</b>\"))\n",
    "\n",
    "response = chat_engine.chat(\"what causes Alzheimer's disease?\")\n",
    "display(Markdown(f\"<b>{response}</b>\"))\n",
    "\n",
    "response = chat_engine.chat(\n",
    "    \"what is the relationship between Alzheimer's disease and dementia?\"\n",
    ")\n",
    "display(Markdown(f\"<b>{response}</b>\"))"
   ]
  },
  {
   "cell_type": "markdown",
   "metadata": {},
   "source": [
    "# Knowledge graph query engine"
   ]
  },
  {
   "cell_type": "code",
   "execution_count": 15,
   "metadata": {},
   "outputs": [],
   "source": [
    "from llama_index.core.query_engine import KnowledgeGraphQueryEngine\n",
    "from llama_index.core.prompts.base import (\n",
    "    PromptTemplate,\n",
    "    PromptType,\n",
    ")\n",
    "\n",
    "# from lama_index/legacy/query_engine/knowledge_graph_query_engine.py\n",
    "DEFAULT_NEBULAGRAPH_NL2CYPHER_PROMPT_TMPL = \"\"\"\n",
    "Generate NebulaGraph query from natural language.\n",
    "Use only the provided relationship types and properties in the schema.\n",
    "Do not use any other relationship types or properties that are not provided.\n",
    "Schema:\n",
    "---\n",
    "{schema}\n",
    "---\n",
    "Note: NebulaGraph speaks a dialect of Cypher, comparing to standard Cypher:\n",
    "\n",
    "1. it uses double equals sign for comparison: `==` rather than `=`\n",
    "2. it needs explicit label specification when referring to node properties, i.e.\n",
    "v is a variable of a node, and we know its label is Foo, v.`foo`.name is correct\n",
    "while v.name is not.\n",
    "\n",
    "For example, see this diff between standard and NebulaGraph Cypher dialect:\n",
    "```diff\n",
    "< MATCH (p:person)-[:directed]->(m:movie) WHERE m.name = 'The Godfather'\n",
    "< RETURN p.name;\n",
    "---\n",
    "> MATCH (p:`person`)-[:directed]->(m:`movie`) WHERE m.`movie`.`name` == 'The Godfather'\n",
    "> RETURN p.`person`.`name`;\n",
    "```\n",
    "Remember to escape any single quotes in all literal string in the NebulaGraph Cypher dialect query. For example, p.`entity`.`name` == 'Alzheimer's disease' should be p.`entity`.`name` == 'Alzheimer\\\\'s disease'.\n",
    "\n",
    "Question: What causes Glaucoma?\n",
    "\n",
    "NebulaGraph Cypher dialect query: MATCH (p:`entity`)-[:`relationship`]->(m:`entity`) WHERE p.`entity`.`name` == 'Glaucoma\\\\'s causes' RETURN m.`entity`.`name`;\n",
    "\n",
    "Question: {query_str}\n",
    "\n",
    "NebulaGraph Cypher dialect query:\n",
    "\"\"\"\n",
    "DEFAULT_NEBULAGRAPH_NL2CYPHER_PROMPT = PromptTemplate(\n",
    "    DEFAULT_NEBULAGRAPH_NL2CYPHER_PROMPT_TMPL,\n",
    "    prompt_type=PromptType.TEXT_TO_GRAPH_QUERY,\n",
    ")\n",
    "\n",
    "query_engine = KnowledgeGraphQueryEngine(\n",
    "    llm=query_llm,\n",
    "    storage_context=storage_context,\n",
    "    verbose=True,\n",
    "    graph_query_synthesis_prompt=DEFAULT_NEBULAGRAPH_NL2CYPHER_PROMPT,\n",
    ")"
   ]
  },
  {
   "cell_type": "code",
   "execution_count": 123,
   "metadata": {},
   "outputs": [
    {
     "name": "stdout",
     "output_type": "stream",
     "text": [
      "\u001b[1;3;33mGraph Store Query:\n",
      "MATCH (p:`entity`)-[:`relationship`]->(m:`entity`) WHERE p.`entity`.`name` == 'Alzheimer\\'s disease' RETURN m.`entity`.`name`;\n",
      "\u001b[0m\u001b[1;3;33mGraph Store Response:\n",
      "{'m.entity.name': ['Genetic variants', 'Doctors', 'Cured', 'Loss of connections between neurons in the brain', '80 genetic areas', 'Proteins', 'Right words', 'Genetic variants', 'Dr. alois alzheimer', 'Environmental factors', 'Lifestyle', 'Multiple genes', 'Earlier stages', 'Brain', 'Memory', 'Memory and cognitive abilities', 'Older adults', 'Dr. alois alzheimer', 'Drugs', 'Cognitive impairment', 'Genetic cause', 'Memory loss', 'No cure', 'Risk', 'Risk factor', 'Clinical trials', 'Dementia', 'Brain disorder', 'Complex', 'Disease', 'Early-stage', 'Most common cause of dementia', 'Most commonly diagnosed form of dementia', 'Neurodegenerative disease', 'Neurodegenerative disorder', 'Seventh leading cause of death in the united states', 'Third leading cause of death', 'Type of dementia', 'Very complex', 'Currently', 'Dementia', 'Family', 'Several stages', 'Environmental factors', 'Genes', 'Lifestyle', 'Multiple genes', 'Age-related changes in the brain', 'Changes in communication skills', 'Complex series of age-related brain changes', 'Confusion about language', 'Genetic factors', 'Memory loss', 'Problems with finding the right word', 'Trouble remembering things', 'Delusions', 'Hallucinations', 'Down syndrome', 'Memory problems', 'Physical and emotional discomfort', 'Methods', 'Memory', 'Dementia', 'Dementia', '1906', 'Fever', 'Age', 'Family history', 'No definitive evidence', 'Seventh leading cause of death', 'Unique challenges', 'Finding the right words', 'Affect memory', 'Dementia', 'Memory loss', 'Feelings into words']}\n",
      "\u001b[0m\u001b[1;3;32mFinal Response: Alzheimer's disease is a complex brain disorder that affects memory, thinking, and behavior. It is the most common cause of dementia, a general term for memory loss and other cognitive abilities serious enough to interfere with everyday activities. Alzheimer's disease is a progressive disease, meaning it gets worse over time. There is no cure for Alzheimer's disease, but treatments can help manage the symptoms.\n",
      "\u001b[0m"
     ]
    },
    {
     "data": {
      "text/markdown": [
       "<b>Alzheimer's disease is a complex brain disorder that affects memory, thinking, and behavior. It is the most common cause of dementia, a general term for memory loss and other cognitive abilities serious enough to interfere with everyday activities. Alzheimer's disease is a progressive disease, meaning it gets worse over time. There is no cure for Alzheimer's disease, but treatments can help manage the symptoms.</b>"
      ],
      "text/plain": [
       "<IPython.core.display.Markdown object>"
      ]
     },
     "metadata": {},
     "output_type": "display_data"
    }
   ],
   "source": [
    "response = query_engine.query(\"Tell me about Alzheimer's disease\")\n",
    "display(Markdown(f\"<b>{response}</b>\"))"
   ]
  },
  {
   "cell_type": "markdown",
   "metadata": {},
   "source": [
    "# Knowledge graph RAG query engine"
   ]
  },
  {
   "cell_type": "code",
   "execution_count": 16,
   "metadata": {},
   "outputs": [],
   "source": [
    "from llama_index.core.query_engine import RetrieverQueryEngine\n",
    "from llama_index.core.retrievers import KnowledgeGraphRAGRetriever\n",
    "\n",
    "graph_rag_retriever = KnowledgeGraphRAGRetriever(\n",
    "    storage_context=storage_context,\n",
    "    verbose=True,\n",
    "    with_nl2graphquery=True,  # include results from generated cypher queries\n",
    "    graph_query_synthesis_prompt=DEFAULT_NEBULAGRAPH_NL2CYPHER_PROMPT,\n",
    ")\n",
    "\n",
    "query_engine = RetrieverQueryEngine.from_args(\n",
    "    graph_rag_retriever,\n",
    "    response_mode=\"tree_summarize\",\n",
    "    verbose=True,\n",
    ")"
   ]
  },
  {
   "cell_type": "code",
   "execution_count": 18,
   "metadata": {},
   "outputs": [
    {
     "name": "stdout",
     "output_type": "stream",
     "text": [
      "\u001b[1;3;33mGraph Store Query:\n",
      "MATCH (p:`entity`)-[:`relationship`]->(m:`entity`) WHERE p.`entity`.`name` == 'Alzheimer\\'s disease' RETURN m.`entity`.`name`;\n",
      "\u001b[0m\u001b[1;3;33mGraph Store Response:\n",
      "{'m.entity.name': ['Genetic variants', 'Doctors', 'Cured', 'Loss of connections between neurons in the brain', '80 genetic areas', 'Proteins', 'Right words', 'Genetic variants', 'Dr. alois alzheimer', 'Environmental factors', 'Lifestyle', 'Multiple genes', 'Earlier stages', 'Brain', 'Memory', 'Memory and cognitive abilities', 'Older adults', 'Dr. alois alzheimer', 'Drugs', 'Cognitive impairment', 'Genetic cause', 'Memory loss', 'No cure', 'Risk', 'Risk factor', 'Clinical trials', 'Dementia', 'Brain disorder', 'Complex', 'Disease', 'Early-stage', 'Most common cause of dementia', 'Most commonly diagnosed form of dementia', 'Neurodegenerative disease', 'Neurodegenerative disorder', 'Seventh leading cause of death in the united states', 'Third leading cause of death', 'Type of dementia', 'Very complex', 'Currently', 'Dementia', 'Family', 'Several stages', 'Environmental factors', 'Genes', 'Lifestyle', 'Multiple genes', 'Age-related changes in the brain', 'Changes in communication skills', 'Complex series of age-related brain changes', 'Confusion about language', 'Genetic factors', 'Memory loss', 'Problems with finding the right word', 'Trouble remembering things', 'Delusions', 'Hallucinations', 'Down syndrome', 'Memory problems', 'Physical and emotional discomfort', 'Methods', 'Memory', 'Dementia', 'Dementia', '1906', 'Fever', 'Age', 'Family history', 'No definitive evidence', 'Seventh leading cause of death', 'Unique challenges', 'Finding the right words', 'Affect memory', 'Dementia', 'Memory loss', 'Feelings into words']}\n",
      "\u001b[0m######## 5 Tell me about Alzheimer's disease KEYWORDS: Alzheimer's disease, dementia, memory loss, cognitive decline, brain disorder\n",
      "######## 5 ['loss', 'brain disorder', \"Alzheimer's disease\", 'cognitive decline', 'dementia', 'Alzheimer', 'memory loss', 'cognitive', 'disease', 'memory', 'decline', 'brain', 'disorder'] SYNONYMS: loss, brain disorder, Alzheimer's disease, cognitive decline, dementia, Alzheimer, memory loss, cognitive, disease, memory, decline, brain, disorder\n"
     ]
    },
    {
     "data": {
      "text/markdown": [
       "<b>Alzheimer's disease is a neurodegenerative disease that is the most common cause of dementia. It is a complex disease that affects memory, thinking, and behavior. Alzheimer's disease is caused by a combination of genetic, environmental, and lifestyle factors. There is no cure for Alzheimer's disease, but there are treatments that can help to manage the symptoms.</b>"
      ],
      "text/plain": [
       "<IPython.core.display.Markdown object>"
      ]
     },
     "metadata": {},
     "output_type": "display_data"
    }
   ],
   "source": [
    "response = query_engine.query(\"Tell me about Alzheimer's disease\")\n",
    "display(Markdown(f\"<b>{response}</b>\"))"
   ]
  },
  {
   "cell_type": "code",
   "execution_count": 19,
   "metadata": {},
   "outputs": [
    {
     "data": {
      "text/plain": [
       "{'ce2b34a7-b92c-47c4-a1ca-1aa609edd5c3': {'query_str': \"Tell me about Alzheimer's disease\",\n",
       "  'graph_store_query': \"MATCH (p:`entity`)-[:`relationship`]->(m:`entity`) WHERE p.`entity`.`name` == 'Alzheimer\\\\'s disease' RETURN m.`entity`.`name`;\",\n",
       "  'graph_store_response': {'m.entity.name': ['Genetic variants',\n",
       "    'Doctors',\n",
       "    'Cured',\n",
       "    'Loss of connections between neurons in the brain',\n",
       "    '80 genetic areas',\n",
       "    'Proteins',\n",
       "    'Right words',\n",
       "    'Genetic variants',\n",
       "    'Dr. alois alzheimer',\n",
       "    'Environmental factors',\n",
       "    'Lifestyle',\n",
       "    'Multiple genes',\n",
       "    'Earlier stages',\n",
       "    'Brain',\n",
       "    'Memory',\n",
       "    'Memory and cognitive abilities',\n",
       "    'Older adults',\n",
       "    'Dr. alois alzheimer',\n",
       "    'Drugs',\n",
       "    'Cognitive impairment',\n",
       "    'Genetic cause',\n",
       "    'Memory loss',\n",
       "    'No cure',\n",
       "    'Risk',\n",
       "    'Risk factor',\n",
       "    'Clinical trials',\n",
       "    'Dementia',\n",
       "    'Brain disorder',\n",
       "    'Complex',\n",
       "    'Disease',\n",
       "    'Early-stage',\n",
       "    'Most common cause of dementia',\n",
       "    'Most commonly diagnosed form of dementia',\n",
       "    'Neurodegenerative disease',\n",
       "    'Neurodegenerative disorder',\n",
       "    'Seventh leading cause of death in the united states',\n",
       "    'Third leading cause of death',\n",
       "    'Type of dementia',\n",
       "    'Very complex',\n",
       "    'Currently',\n",
       "    'Dementia',\n",
       "    'Family',\n",
       "    'Several stages',\n",
       "    'Environmental factors',\n",
       "    'Genes',\n",
       "    'Lifestyle',\n",
       "    'Multiple genes',\n",
       "    'Age-related changes in the brain',\n",
       "    'Changes in communication skills',\n",
       "    'Complex series of age-related brain changes',\n",
       "    'Confusion about language',\n",
       "    'Genetic factors',\n",
       "    'Memory loss',\n",
       "    'Problems with finding the right word',\n",
       "    'Trouble remembering things',\n",
       "    'Delusions',\n",
       "    'Hallucinations',\n",
       "    'Down syndrome',\n",
       "    'Memory problems',\n",
       "    'Physical and emotional discomfort',\n",
       "    'Methods',\n",
       "    'Memory',\n",
       "    'Dementia',\n",
       "    'Dementia',\n",
       "    '1906',\n",
       "    'Fever',\n",
       "    'Age',\n",
       "    'Family history',\n",
       "    'No definitive evidence',\n",
       "    'Seventh leading cause of death',\n",
       "    'Unique challenges',\n",
       "    'Finding the right words',\n",
       "    'Affect memory',\n",
       "    'Dementia',\n",
       "    'Memory loss',\n",
       "    'Feelings into words']},\n",
       "  'graph_schema': \"Node properties: [{'tag': 'entity', 'properties': [('name', 'string')]}]\\nEdge properties: [{'edge': 'relationship', 'properties': [('relationship', 'string')]}]\\nRelationships: ['(:entity)-[:relationship]->(:entity)']\\n\"},\n",
       " 'a283d84f-b3bc-4b77-9ce1-c35b8a173820': {'kg_rel_map': {\"Alzheimer's disease{name: Alzheimer's disease}\": [\"Alzheimer's disease{name: Alzheimer's disease} <-[relationship:{relationship: Is hallmark of}]- Beta-amyloid plaques{name: Beta-amyloid plaques} <-[relationship:{relationship: Reduced}]- Dha{name: Dha}\",\n",
       "    \"Alzheimer's disease{name: Alzheimer's disease} <-[relationship:{relationship: Analyze}]- People{name: People} -[relationship:{relationship: Have}]-> Risk of developing alzheimer's disease{name: Risk of developing alzheimer's disease}\",\n",
       "    \"Alzheimer's disease{name: Alzheimer's disease} <-[relationship:{relationship: Analyze}]- People{name: People} -[relationship:{relationship: Have}]-> Potential{name: Potential}\",\n",
       "    \"Alzheimer's disease{name: Alzheimer's disease} <-[relationship:{relationship: Analyze}]- People{name: People} -[relationship:{relationship: Have}]-> Memory{name: Memory}\",\n",
       "    \"Alzheimer's disease{name: Alzheimer's disease} <-[relationship:{relationship: Analyze}]- People{name: People} -[relationship:{relationship: Have}]-> Cognitive{name: Cognitive}\",\n",
       "    \"Alzheimer's disease{name: Alzheimer's disease} <-[relationship:{relationship: Analyze}]- People{name: People} -[relationship:{relationship: Have}]-> Alzheimers disease{name: Alzheimers disease}\",\n",
       "    \"Alzheimer's disease{name: Alzheimer's disease} <-[relationship:{relationship: Have}]- People{name: People} -[relationship:{relationship: Analyze}]-> Alzheimer's disease{name: Alzheimer's disease}\",\n",
       "    \"Alzheimer's disease{name: Alzheimer's disease} <-[relationship:{relationship: Have}]- People{name: People} -[relationship:{relationship: Have}]-> Memory{name: Memory}\",\n",
       "    \"Alzheimer's disease{name: Alzheimer's disease} <-[relationship:{relationship: Have}]- People{name: People} -[relationship:{relationship: Have}]-> Dementia{name: Dementia}\",\n",
       "    \"Alzheimer's disease{name: Alzheimer's disease} <-[relationship:{relationship: Have}]- People{name: People} -[relationship:{relationship: Have}]-> Cognitive{name: Cognitive}\",\n",
       "    \"Alzheimer's disease{name: Alzheimer's disease} <-[relationship:{relationship: Develop}]- People with down syndrome{name: People with down syndrome} -[relationship:{relationship: Born with}]-> Extra copy of chromosome 21{name: Extra copy of chromosome 21}\",\n",
       "    \"Alzheimer's disease{name: Alzheimer's disease} <-[relationship:{relationship: Has}]- Nia{name: Nia} -[relationship:{relationship: Funds}]-> Alzheimer's research{name: Alzheimer's research}\",\n",
       "    \"Alzheimer's disease{name: Alzheimer's disease} <-[relationship:{relationship: Has}]- Nia{name: Nia} -[relationship:{relationship: Ensure}]-> Content is up to date{name: Content is up to date}\",\n",
       "    \"Alzheimer's disease{name: Alzheimer's disease} <-[relationship:{relationship: Has}]- Nia{name: Nia} -[relationship:{relationship: Ensure}]-> Content is accurate{name: Content is accurate}\",\n",
       "    \"Alzheimer's disease{name: Alzheimer's disease} <-[relationship:{relationship: Has}]- Nia{name: Nia} -[relationship:{relationship: Conducts}]-> Clinical trials{name: Clinical trials}\",\n",
       "    \"Alzheimer's disease{name: Alzheimer's disease} <-[relationship:{relationship: Has}]- Nia{name: Nia} -[relationship:{relationship: Support}]-> Alzheimer's disease research centers{name: Alzheimer's disease research centers}\",\n",
       "    \"Alzheimer's disease{name: Alzheimer's disease} -[relationship:{relationship: Has symptoms}]-> Memory problems{name: Memory problems} <-[relationship:{relationship: Has symptom}]- Alzheimer's{name: Alzheimer's}\",\n",
       "    \"Alzheimer's disease{name: Alzheimer's disease} <-[relationship:{relationship: Has}]- Nia{name: Nia} -[relationship:{relationship: Provide}]-> Contact information via vulnerability disclosure policy{name: Contact information via vulnerability disclosure policy}\",\n",
       "    \"Alzheimer's disease{name: Alzheimer's disease} -[relationship:{relationship: Has symptoms}]-> Memory problems{name: Memory problems} <-[relationship:{relationship: May include}]- Mci{name: Mci}\",\n",
       "    \"Alzheimer's disease{name: Alzheimer's disease} -[relationship:{relationship: Influenced by}]-> Environmental factors{name: Environmental factors} <-[relationship:{relationship: Is influenced by}]- Alzheimer's disease{name: Alzheimer's disease}\",\n",
       "    \"Alzheimer's disease{name: Alzheimer's disease} -[relationship:{relationship: Has connection with}]-> Down syndrome{name: Down syndrome} -[relationship:{relationship: Results from}]-> Having an extra chromosome 21{name: Having an extra chromosome 21}\",\n",
       "    \"Alzheimer's disease{name: Alzheimer's disease} -[relationship:{relationship: Is}]-> Disease{name: Disease} <-[relationship:{relationship: Have}]- U4eba{name: U4eba}\",\n",
       "    \"Alzheimer's disease{name: Alzheimer's disease} -[relationship:{relationship: May cause}]-> Hallucinations{name: Hallucinations}\",\n",
       "    \"Alzheimer's disease{name: Alzheimer's disease} -[relationship:{relationship: Is caused by}]-> Genetic variants{name: Genetic variants} <-[relationship:{relationship: Cause}]- Alzheimer's disease{name: Alzheimer's disease}\",\n",
       "    \"Alzheimer's disease{name: Alzheimer's disease} -[relationship:{relationship: Has connection with}]-> Down syndrome{name: Down syndrome} -[relationship:{relationship: Has connection with}]-> Alzheimer's{name: Alzheimer's}\",\n",
       "    \"Alzheimer's disease{name: Alzheimer's disease} <-[relationship:{relationship: Has}]- Nia{name: Nia} -[relationship:{relationship: Has}]-> Mission{name: Mission}\",\n",
       "    \"Alzheimer's disease{name: Alzheimer's disease} -[relationship:{relationship: Causes}]-> Memory loss{name: Memory loss} <-[relationship:{relationship: Is linked to}]- Paranoia{name: Paranoia}\",\n",
       "    \"Alzheimer's disease{name: Alzheimer's disease} -[relationship:{relationship: Influenced by}]-> Multiple genes{name: Multiple genes} <-[relationship:{relationship: Influenced by}]- Alzheimer's{name: Alzheimer's}\",\n",
       "    \"Alzheimer's disease{name: Alzheimer's disease} -[relationship:{relationship: Influenced by}]-> Lifestyle{name: Lifestyle} <-[relationship:{relationship: Influenced by}]- Alzheimer's{name: Alzheimer's}\",\n",
       "    \"Alzheimer's disease{name: Alzheimer's disease} -[relationship:{relationship: Has connection with}]-> Down syndrome{name: Down syndrome} -[relationship:{relationship: Carries}]-> App gene{name: App gene}\"]},\n",
       "  'kg_rel_text': [\"Alzheimer's disease{name: Alzheimer's disease} <-[relationship:{relationship: Is hallmark of}]- Beta-amyloid plaques{name: Beta-amyloid plaques} <-[relationship:{relationship: Reduced}]- Dha{name: Dha}\",\n",
       "   \"Alzheimer's disease{name: Alzheimer's disease} <-[relationship:{relationship: Analyze}]- People{name: People} -[relationship:{relationship: Have}]-> Risk of developing alzheimer's disease{name: Risk of developing alzheimer's disease}\",\n",
       "   \"Alzheimer's disease{name: Alzheimer's disease} <-[relationship:{relationship: Analyze}]- People{name: People} -[relationship:{relationship: Have}]-> Potential{name: Potential}\",\n",
       "   \"Alzheimer's disease{name: Alzheimer's disease} <-[relationship:{relationship: Analyze}]- People{name: People} -[relationship:{relationship: Have}]-> Memory{name: Memory}\",\n",
       "   \"Alzheimer's disease{name: Alzheimer's disease} <-[relationship:{relationship: Analyze}]- People{name: People} -[relationship:{relationship: Have}]-> Cognitive{name: Cognitive}\",\n",
       "   \"Alzheimer's disease{name: Alzheimer's disease} <-[relationship:{relationship: Analyze}]- People{name: People} -[relationship:{relationship: Have}]-> Alzheimers disease{name: Alzheimers disease}\",\n",
       "   \"Alzheimer's disease{name: Alzheimer's disease} <-[relationship:{relationship: Have}]- People{name: People} -[relationship:{relationship: Analyze}]-> Alzheimer's disease{name: Alzheimer's disease}\",\n",
       "   \"Alzheimer's disease{name: Alzheimer's disease} <-[relationship:{relationship: Have}]- People{name: People} -[relationship:{relationship: Have}]-> Memory{name: Memory}\",\n",
       "   \"Alzheimer's disease{name: Alzheimer's disease} <-[relationship:{relationship: Have}]- People{name: People} -[relationship:{relationship: Have}]-> Dementia{name: Dementia}\",\n",
       "   \"Alzheimer's disease{name: Alzheimer's disease} <-[relationship:{relationship: Have}]- People{name: People} -[relationship:{relationship: Have}]-> Cognitive{name: Cognitive}\",\n",
       "   \"Alzheimer's disease{name: Alzheimer's disease} <-[relationship:{relationship: Develop}]- People with down syndrome{name: People with down syndrome} -[relationship:{relationship: Born with}]-> Extra copy of chromosome 21{name: Extra copy of chromosome 21}\",\n",
       "   \"Alzheimer's disease{name: Alzheimer's disease} <-[relationship:{relationship: Has}]- Nia{name: Nia} -[relationship:{relationship: Funds}]-> Alzheimer's research{name: Alzheimer's research}\",\n",
       "   \"Alzheimer's disease{name: Alzheimer's disease} <-[relationship:{relationship: Has}]- Nia{name: Nia} -[relationship:{relationship: Ensure}]-> Content is up to date{name: Content is up to date}\",\n",
       "   \"Alzheimer's disease{name: Alzheimer's disease} <-[relationship:{relationship: Has}]- Nia{name: Nia} -[relationship:{relationship: Ensure}]-> Content is accurate{name: Content is accurate}\",\n",
       "   \"Alzheimer's disease{name: Alzheimer's disease} <-[relationship:{relationship: Has}]- Nia{name: Nia} -[relationship:{relationship: Conducts}]-> Clinical trials{name: Clinical trials}\",\n",
       "   \"Alzheimer's disease{name: Alzheimer's disease} <-[relationship:{relationship: Has}]- Nia{name: Nia} -[relationship:{relationship: Support}]-> Alzheimer's disease research centers{name: Alzheimer's disease research centers}\",\n",
       "   \"Alzheimer's disease{name: Alzheimer's disease} -[relationship:{relationship: Has symptoms}]-> Memory problems{name: Memory problems} <-[relationship:{relationship: Has symptom}]- Alzheimer's{name: Alzheimer's}\",\n",
       "   \"Alzheimer's disease{name: Alzheimer's disease} <-[relationship:{relationship: Has}]- Nia{name: Nia} -[relationship:{relationship: Provide}]-> Contact information via vulnerability disclosure policy{name: Contact information via vulnerability disclosure policy}\",\n",
       "   \"Alzheimer's disease{name: Alzheimer's disease} -[relationship:{relationship: Has symptoms}]-> Memory problems{name: Memory problems} <-[relationship:{relationship: May include}]- Mci{name: Mci}\",\n",
       "   \"Alzheimer's disease{name: Alzheimer's disease} -[relationship:{relationship: Influenced by}]-> Environmental factors{name: Environmental factors} <-[relationship:{relationship: Is influenced by}]- Alzheimer's disease{name: Alzheimer's disease}\",\n",
       "   \"Alzheimer's disease{name: Alzheimer's disease} -[relationship:{relationship: Has connection with}]-> Down syndrome{name: Down syndrome} -[relationship:{relationship: Results from}]-> Having an extra chromosome 21{name: Having an extra chromosome 21}\",\n",
       "   \"Alzheimer's disease{name: Alzheimer's disease} -[relationship:{relationship: Is}]-> Disease{name: Disease} <-[relationship:{relationship: Have}]- U4eba{name: U4eba}\",\n",
       "   \"Alzheimer's disease{name: Alzheimer's disease} -[relationship:{relationship: May cause}]-> Hallucinations{name: Hallucinations}\",\n",
       "   \"Alzheimer's disease{name: Alzheimer's disease} -[relationship:{relationship: Is caused by}]-> Genetic variants{name: Genetic variants} <-[relationship:{relationship: Cause}]- Alzheimer's disease{name: Alzheimer's disease}\",\n",
       "   \"Alzheimer's disease{name: Alzheimer's disease} -[relationship:{relationship: Has connection with}]-> Down syndrome{name: Down syndrome} -[relationship:{relationship: Has connection with}]-> Alzheimer's{name: Alzheimer's}\",\n",
       "   \"Alzheimer's disease{name: Alzheimer's disease} <-[relationship:{relationship: Has}]- Nia{name: Nia} -[relationship:{relationship: Has}]-> Mission{name: Mission}\",\n",
       "   \"Alzheimer's disease{name: Alzheimer's disease} -[relationship:{relationship: Causes}]-> Memory loss{name: Memory loss} <-[relationship:{relationship: Is linked to}]- Paranoia{name: Paranoia}\",\n",
       "   \"Alzheimer's disease{name: Alzheimer's disease} -[relationship:{relationship: Influenced by}]-> Multiple genes{name: Multiple genes} <-[relationship:{relationship: Influenced by}]- Alzheimer's{name: Alzheimer's}\",\n",
       "   \"Alzheimer's disease{name: Alzheimer's disease} -[relationship:{relationship: Influenced by}]-> Lifestyle{name: Lifestyle} <-[relationship:{relationship: Influenced by}]- Alzheimer's{name: Alzheimer's}\",\n",
       "   \"Alzheimer's disease{name: Alzheimer's disease} -[relationship:{relationship: Has connection with}]-> Down syndrome{name: Down syndrome} -[relationship:{relationship: Carries}]-> App gene{name: App gene}\"],\n",
       "  'kg_schema': {'schema': \"Node properties: [{'tag': 'entity', 'properties': [('name', 'string')]}]\\nEdge properties: [{'edge': 'relationship', 'properties': [('relationship', 'string')]}]\\nRelationships: ['(:entity)-[:relationship]->(:entity)']\\n\"}}}"
      ]
     },
     "execution_count": 19,
     "metadata": {},
     "output_type": "execute_result"
    }
   ],
   "source": [
    "response.metadata"
   ]
  }
 ],
 "metadata": {
  "kernelspec": {
   "display_name": "capstone",
   "language": "python",
   "name": "python3"
  },
  "language_info": {
   "codemirror_mode": {
    "name": "ipython",
    "version": 3
   },
   "file_extension": ".py",
   "mimetype": "text/x-python",
   "name": "python",
   "nbconvert_exporter": "python",
   "pygments_lexer": "ipython3",
   "version": "3.12.2"
  }
 },
 "nbformat": 4,
 "nbformat_minor": 2
}
